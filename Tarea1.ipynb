{
  "nbformat": 4,
  "nbformat_minor": 0,
  "metadata": {
    "colab": {
      "name": "Tarea1.ipynb",
      "provenance": [],
      "collapsed_sections": []
    },
    "kernelspec": {
      "name": "python3",
      "display_name": "Python 3"
    }
  },
  "cells": [
    {
      "cell_type": "code",
      "metadata": {
        "id": "KLgYo8RLwxWB",
        "colab_type": "code",
        "colab": {}
      },
      "source": [
        "from datetime import datetime\n",
        "\n",
        "def main():\n",
        "\n",
        "  log = open(\"log_prueba_tarea1_inf331.txt\", 'a')\n",
        "  ahora = datetime.now()\n",
        "  dataLog = '{ ' + 'fecha : \"{}\" , '.format(ahora)\n",
        "\n",
        "  string1 = ''\n",
        "  string2 = ''\n",
        "  resultado = ''\n",
        "\n",
        "  while (len(string1) == 0):\n",
        "    print('ingrese string 1 :')\n",
        "    string1 = input()\n",
        "  \n",
        "  while (len(string2) == 0):\n",
        "    print('ingrese string 2 :')\n",
        "    string2 = input()\n",
        "\n",
        "\n",
        "  resultado = compareStrings(string1, string2)\n",
        "\n",
        "  print(resultado)\n",
        "  \n",
        "  \n",
        "  string1 = string1.encode('utf-8')\n",
        "  string2 = string2.encode('utf-8')\n",
        "\n",
        "  dataLog = dataLog + 'stringA : \"{}\" , stringB : \"{}\" , resultado : \"{}\" '.format(string1, string2, resultado) + ' }\\n'\n",
        "\n",
        "  log.write(dataLog)\n",
        "  log.close()\n",
        "\n",
        "  print('Para finalizar el programa presione la tecla Enter')\n",
        "  input()\n",
        "\n",
        "\n",
        "def compareStrings(StringA, StringB):\n",
        "\n",
        "  largoStringA = len(StringA)\n",
        "  largoStringB = len(StringB)\n",
        "\n",
        "  if(largoStringA < largoStringB):\n",
        "    return 'String 2 es el más largo'\n",
        "  elif (largoStringA == largoStringB):\n",
        "    return 'Los Strings tienen el mismo largo'\n",
        "  else:\n",
        "    return 'String 1 es el más largo'\n",
        "\n",
        "main()\n"
      ],
      "execution_count": null,
      "outputs": []
    }
  ]
}